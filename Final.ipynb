{
  "nbformat": 4,
  "nbformat_minor": 0,
  "metadata": {
    "colab": {
      "name": "Final.ipynb",
      "provenance": [],
      "collapsed_sections": []
    },
    "kernelspec": {
      "name": "python3",
      "display_name": "Python 3"
    },
    "language_info": {
      "name": "python"
    },
    "accelerator": "GPU"
  },
  "cells": [
    {
      "cell_type": "code",
      "metadata": {
        "id": "FpOqdztikgec"
      },
      "source": [
        "import numpy as np\n",
        "import pandas as pd\n",
        "import gzip"
      ],
      "execution_count": null,
      "outputs": []
    },
    {
      "cell_type": "code",
      "metadata": {
        "colab": {
          "base_uri": "https://localhost:8080/"
        },
        "id": "80WUS4TIkoI5",
        "outputId": "88de2f95-4f6d-4914-c248-bcf229a1a338"
      },
      "source": [
        "#loading images\n",
        "train=gzip.GzipFile('/content/drive/MyDrive/RFMID/train.npy.gz', \"r\")\n",
        "train_images=np.load(train)\n",
        "test=gzip.GzipFile('/content/drive/MyDrive/RFMID/test.npy.gz', \"r\")\n",
        "test_images=np.load(test)\n",
        "# val=gzip.GzipFile('/content/drive/MyDrive/RFMID/val.npy.gz', \"r\")\n",
        "# val_images=np.load(val)\n",
        "print(train_images.shape)\n",
        "print(test_images.shape)\n",
        "# print(val_images.shape)"
      ],
      "execution_count": null,
      "outputs": [
        {
          "output_type": "stream",
          "name": "stdout",
          "text": [
            "(1519, 400, 400, 3)\n",
            "(506, 400, 400, 3)\n"
          ]
        }
      ]
    },
    {
      "cell_type": "code",
      "metadata": {
        "colab": {
          "base_uri": "https://localhost:8080/"
        },
        "id": "eZZzo8Wbk74I",
        "outputId": "447ce541-c75d-4e99-9fac-9a85ddd34395"
      },
      "source": [
        "train_label = pd.read_csv('/content/drive/MyDrive/RFMID/a. RFMiD_Training_Labels_final.csv')    # reading the csv file\n",
        "print(train_label.shape)\n",
        "train_label.drop(['Disease_Risk','ID'],axis=1,inplace=True)\n",
        "print(train_label.shape)\n",
        "y_train=np.array(train_label)\n",
        "print(y_train.shape)"
      ],
      "execution_count": null,
      "outputs": [
        {
          "output_type": "stream",
          "name": "stdout",
          "text": [
            "(1519, 9)\n",
            "(1519, 7)\n",
            "(1519, 7)\n"
          ]
        }
      ]
    },
    {
      "cell_type": "code",
      "metadata": {
        "colab": {
          "base_uri": "https://localhost:8080/"
        },
        "id": "Wypt54zMk-IV",
        "outputId": "e77a1d65-3386-47cc-d339-39829c5a4770"
      },
      "source": [
        "test_label = pd.read_csv('/content/drive/MyDrive/RFMID/c. RFMiD_Testing_Labels_final.csv')    # reading the csv file\n",
        "print(test_label.shape)\n",
        "test_label.drop(['Disease_Risk','ID'],axis=1,inplace=True)\n",
        "print(test_label.shape)\n",
        "y_test=np.array(test_label)\n",
        "print(y_test.shape)"
      ],
      "execution_count": null,
      "outputs": [
        {
          "output_type": "stream",
          "name": "stdout",
          "text": [
            "(506, 9)\n",
            "(506, 7)\n",
            "(506, 7)\n"
          ]
        }
      ]
    },
    {
      "cell_type": "code",
      "metadata": {
        "id": "gp7y7uv0lA1x"
      },
      "source": [
        "from tensorflow.keras.applications.vgg16 import VGG16"
      ],
      "execution_count": null,
      "outputs": []
    },
    {
      "cell_type": "code",
      "metadata": {
        "id": "5kcCbQVrlDG9",
        "colab": {
          "base_uri": "https://localhost:8080/"
        },
        "outputId": "eeba8c9a-03f9-4b23-d0c8-9f12bbe0701f"
      },
      "source": [
        "VGG_model = VGG16(weights='imagenet', include_top=False, input_shape=(400, 400, 3))"
      ],
      "execution_count": null,
      "outputs": [
        {
          "output_type": "stream",
          "name": "stdout",
          "text": [
            "Downloading data from https://storage.googleapis.com/tensorflow/keras-applications/vgg16/vgg16_weights_tf_dim_ordering_tf_kernels_notop.h5\n",
            "58892288/58889256 [==============================] - 1s 0us/step\n",
            "58900480/58889256 [==============================] - 1s 0us/step\n"
          ]
        }
      ]
    },
    {
      "cell_type": "code",
      "metadata": {
        "id": "yOl6BgU_lFBJ"
      },
      "source": [
        "for layer in VGG_model.layers:\n",
        "\tlayer.trainable = False"
      ],
      "execution_count": null,
      "outputs": []
    },
    {
      "cell_type": "code",
      "metadata": {
        "colab": {
          "base_uri": "https://localhost:8080/"
        },
        "id": "nkdqFuDilHeE",
        "outputId": "7ff3fa2d-bc6b-4e2b-d982-ab9fc80145e8"
      },
      "source": [
        "VGG_model.save(\"/content/drive/MyDrive/RFMID/vgg_final.h5\")"
      ],
      "execution_count": null,
      "outputs": [
        {
          "output_type": "stream",
          "name": "stdout",
          "text": [
            "WARNING:tensorflow:Compiled the loaded model, but the compiled metrics have yet to be built. `model.compile_metrics` will be empty until you train or evaluate the model.\n"
          ]
        }
      ]
    },
    {
      "cell_type": "code",
      "metadata": {
        "id": "xIoLRFIplLDw"
      },
      "source": [
        "feature_extractor=VGG_model.predict(train_images)"
      ],
      "execution_count": null,
      "outputs": []
    },
    {
      "cell_type": "code",
      "metadata": {
        "id": "hcoG3UKdlNrt"
      },
      "source": [
        "f = gzip.GzipFile(\"/content/drive/MyDrive/RFMID/features_final.npy.gz\", \"w\")\n",
        "np.save(file=f, arr=feature_extractor)\n",
        "f.close()"
      ],
      "execution_count": null,
      "outputs": []
    },
    {
      "cell_type": "code",
      "metadata": {
        "id": "2zUw7cIRlTot",
        "colab": {
          "base_uri": "https://localhost:8080/"
        },
        "outputId": "007d0952-8170-4856-bb6f-509c553b3f6d"
      },
      "source": [
        "f = gzip.GzipFile('/content/drive/MyDrive/RFMID/features_final.npy.gz', \"r\")\n",
        "train_images=np.load(f)\n",
        "train_images.shape"
      ],
      "execution_count": null,
      "outputs": [
        {
          "output_type": "execute_result",
          "data": {
            "text/plain": [
              "(1519, 12, 12, 512)"
            ]
          },
          "metadata": {},
          "execution_count": 11
        }
      ]
    },
    {
      "cell_type": "code",
      "metadata": {
        "id": "yJKTtQvclWRJ"
      },
      "source": [
        "features = train_images.reshape(train_images.shape[0], -1)"
      ],
      "execution_count": null,
      "outputs": []
    },
    {
      "cell_type": "code",
      "metadata": {
        "id": "35F5FtqIlYZB",
        "colab": {
          "base_uri": "https://localhost:8080/"
        },
        "outputId": "16af4610-f153-47d2-c78c-5761545cadbb"
      },
      "source": [
        "X_for_training = features\n",
        "X_for_training.shape"
      ],
      "execution_count": null,
      "outputs": [
        {
          "output_type": "execute_result",
          "data": {
            "text/plain": [
              "(1519, 73728)"
            ]
          },
          "metadata": {},
          "execution_count": 13
        }
      ]
    },
    {
      "cell_type": "code",
      "metadata": {
        "id": "lq3eEx8klalv",
        "colab": {
          "base_uri": "https://localhost:8080/"
        },
        "outputId": "db16db18-058f-453f-847d-41b4ba0c610b"
      },
      "source": [
        "y_train.shape"
      ],
      "execution_count": null,
      "outputs": [
        {
          "output_type": "execute_result",
          "data": {
            "text/plain": [
              "(1519, 7)"
            ]
          },
          "metadata": {},
          "execution_count": 14
        }
      ]
    },
    {
      "cell_type": "code",
      "metadata": {
        "id": "oW5SkbbXlcei",
        "colab": {
          "base_uri": "https://localhost:8080/"
        },
        "outputId": "678846be-947d-4cb7-aa5d-da98eec9860a"
      },
      "source": [
        "# logistic regression for multi-class classification using a one-vs-rest\n",
        "from sklearn.datasets import make_classification\n",
        "from sklearn.multiclass import OneVsRestClassifier\n",
        "from sklearn.ensemble import RandomForestClassifier\n",
        "\n",
        "model = RandomForestClassifier()\n",
        "ovr = OneVsRestClassifier(model)\n",
        "# fit model\n",
        "ovr.fit(X_for_training, y_train)\n",
        "# make predictions\n",
        "#yhat = ovr.predict(X_test)"
      ],
      "execution_count": null,
      "outputs": [
        {
          "output_type": "execute_result",
          "data": {
            "text/plain": [
              "OneVsRestClassifier(estimator=RandomForestClassifier(bootstrap=True,\n",
              "                                                     ccp_alpha=0.0,\n",
              "                                                     class_weight=None,\n",
              "                                                     criterion='gini',\n",
              "                                                     max_depth=None,\n",
              "                                                     max_features='auto',\n",
              "                                                     max_leaf_nodes=None,\n",
              "                                                     max_samples=None,\n",
              "                                                     min_impurity_decrease=0.0,\n",
              "                                                     min_impurity_split=None,\n",
              "                                                     min_samples_leaf=1,\n",
              "                                                     min_samples_split=2,\n",
              "                                                     min_weight_fraction_leaf=0.0,\n",
              "                                                     n_estimators=100,\n",
              "                                                     n_jobs=None,\n",
              "                                                     oob_score=False,\n",
              "                                                     random_state=None,\n",
              "                                                     verbose=0,\n",
              "                                                     warm_start=False),\n",
              "                    n_jobs=None)"
            ]
          },
          "metadata": {},
          "execution_count": 15
        }
      ]
    },
    {
      "cell_type": "code",
      "metadata": {
        "id": "FCCJRszdle5R"
      },
      "source": [
        "import pickle\n",
        "file = open('/content/drive/MyDrive/RFMID/final_model.pkl', 'wb')\n",
        "pickle.dump(ovr,file)"
      ],
      "execution_count": null,
      "outputs": []
    },
    {
      "cell_type": "code",
      "metadata": {
        "id": "xU0aBM3_ljuH"
      },
      "source": [
        "import pickle\n",
        "file = open('/content/drive/MyDrive/RFMID/final_model.pkl', 'rb')\n",
        "ovr = pickle.load(file)"
      ],
      "execution_count": null,
      "outputs": []
    },
    {
      "cell_type": "code",
      "metadata": {
        "id": "rALA4MXilnbP",
        "colab": {
          "base_uri": "https://localhost:8080/"
        },
        "outputId": "e6b02a20-c4f7-4ac0-eb62-760fe2f5a7b1"
      },
      "source": [
        "from tensorflow.keras.preprocessing import image\n",
        "import numpy as np\n",
        "img=image.load_img(\"/content/955.png\",target_size=(400,400))\n",
        "\n",
        "img=image.img_to_array(img)\n",
        "\n",
        "X=np.expand_dims(img, axis=0)\n",
        "X.shape"
      ],
      "execution_count": null,
      "outputs": [
        {
          "output_type": "execute_result",
          "data": {
            "text/plain": [
              "(1, 400, 400, 3)"
            ]
          },
          "metadata": {},
          "execution_count": 34
        }
      ]
    },
    {
      "cell_type": "code",
      "metadata": {
        "id": "otTz7_YslpvJ",
        "colab": {
          "base_uri": "https://localhost:8080/"
        },
        "outputId": "aab25fc1-4ff7-4041-a934-01eee0912637"
      },
      "source": [
        "test=VGG_model.predict(X)\n",
        "test.shape"
      ],
      "execution_count": null,
      "outputs": [
        {
          "output_type": "execute_result",
          "data": {
            "text/plain": [
              "(1, 12, 12, 512)"
            ]
          },
          "metadata": {},
          "execution_count": 35
        }
      ]
    },
    {
      "cell_type": "code",
      "metadata": {
        "id": "GwBiOHCklqjP",
        "colab": {
          "base_uri": "https://localhost:8080/"
        },
        "outputId": "54ff2277-07bf-4dab-8e6f-dfb41dfe2210"
      },
      "source": [
        "val = test.reshape(test.shape[0], -1)\n",
        "val.shape"
      ],
      "execution_count": null,
      "outputs": [
        {
          "output_type": "execute_result",
          "data": {
            "text/plain": [
              "(1, 73728)"
            ]
          },
          "metadata": {},
          "execution_count": 36
        }
      ]
    },
    {
      "cell_type": "code",
      "metadata": {
        "id": "i2iKnz07ltfm",
        "colab": {
          "base_uri": "https://localhost:8080/"
        },
        "outputId": "184d00ec-512c-4789-8930-3da0aa90850d"
      },
      "source": [
        "pred=ovr.predict(val)\n",
        "print(pred)"
      ],
      "execution_count": null,
      "outputs": [
        {
          "output_type": "stream",
          "name": "stdout",
          "text": [
            "[[0 1 1 0 1 1 0]]\n"
          ]
        }
      ]
    },
    {
      "cell_type": "code",
      "metadata": {
        "id": "zRWPOydSnalV"
      },
      "source": [
        "[[0 1 1 1 0 0 0]]\n",
        "[[0 1 0 1 1 0 0]]\n",
        "[[1 1 1 1 1 0 0]]\n",
        "[[0 1 1 0 1 1 0]]"
      ],
      "execution_count": null,
      "outputs": []
    }
  ]
}