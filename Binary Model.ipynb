{
 "cells": [
  {
   "cell_type": "code",
   "execution_count": null,
   "metadata": {
    "id": "X3ftWlO7z1BW"
   },
   "outputs": [],
   "source": [
    "import pandas as pd\n",
    "import numpy as np"
   ]
  },
  {
   "cell_type": "code",
   "execution_count": null,
   "metadata": {
    "colab": {
     "base_uri": "https://localhost:8080/"
    },
    "id": "FQip3Cmfy2C5",
    "outputId": "82fda9ef-4fb5-4720-897b-98c576d2a8da"
   },
   "outputs": [
    {
     "data": {
      "text/plain": [
       "(1920, 12, 12, 512)"
      ]
     },
     "execution_count": 2,
     "metadata": {},
     "output_type": "execute_result"
    }
   ],
   "source": [
    "import gzip\n",
    "import numpy as np\n",
    "f = gzip.GzipFile('/content/drive/MyDrive/SGP/binary_dataset/features_train.npy.gz', \"r\")\n",
    "train_images=np.load(f)\n",
    "train_images.shape"
   ]
  },
  {
   "cell_type": "code",
   "execution_count": null,
   "metadata": {
    "colab": {
     "base_uri": "https://localhost:8080/"
    },
    "id": "JLwL0Yn7M7QW",
    "outputId": "26dc7d20-a1ca-4bb9-9bd9-8a27d0754ea7"
   },
   "outputs": [
    {
     "name": "stdout",
     "output_type": "stream",
     "text": [
      "Drive already mounted at /content/drive; to attempt to forcibly remount, call drive.mount(\"/content/drive\", force_remount=True).\n"
     ]
    }
   ],
   "source": [
    "from google.colab import drive\n",
    "drive.mount('/content/drive')"
   ]
  },
  {
   "cell_type": "code",
   "execution_count": null,
   "metadata": {
    "colab": {
     "base_uri": "https://localhost:8080/"
    },
    "id": "Gcu9mh15zZg6",
    "outputId": "b5b3fc4e-8144-49e3-8049-df9a1b6400ea"
   },
   "outputs": [
    {
     "data": {
      "text/plain": [
       "(640, 12, 12, 512)"
      ]
     },
     "execution_count": 4,
     "metadata": {},
     "output_type": "execute_result"
    }
   ],
   "source": [
    "import gzip\n",
    "import numpy as np\n",
    "f = gzip.GzipFile('/content/drive/MyDrive/SGP/binary_dataset/features_test.npy.gz', \"r\")\n",
    "test_images=np.load(f)\n",
    "test_images.shape"
   ]
  },
  {
   "cell_type": "code",
   "execution_count": null,
   "metadata": {
    "colab": {
     "base_uri": "https://localhost:8080/"
    },
    "id": "6H3Ifkm-zgqP",
    "outputId": "fc9fd711-d436-4d3e-c5cc-3b78bd85a21c"
   },
   "outputs": [
    {
     "name": "stdout",
     "output_type": "stream",
     "text": [
      "(1920, 73728)\n"
     ]
    }
   ],
   "source": [
    "features_train = train_images.reshape(train_images.shape[0], -1)\n",
    "print(features_train.shape)"
   ]
  },
  {
   "cell_type": "code",
   "execution_count": null,
   "metadata": {
    "colab": {
     "base_uri": "https://localhost:8080/"
    },
    "id": "sb6KEgrbznvl",
    "outputId": "3bd90493-53fd-4e2d-e1a4-af153275944c"
   },
   "outputs": [
    {
     "name": "stdout",
     "output_type": "stream",
     "text": [
      "(640, 73728)\n"
     ]
    }
   ],
   "source": [
    "features_test = test_images.reshape(test_images.shape[0], -1)\n",
    "print(features_test.shape)"
   ]
  },
  {
   "cell_type": "code",
   "execution_count": null,
   "metadata": {
    "id": "c-ZlvvtRztiW"
   },
   "outputs": [],
   "source": [
    "#loading labels\n",
    "\n",
    "train_labels = pd.read_csv('/content/drive/MyDrive/SGP/dataset/labels/train.csv')\n",
    "test_labels = pd.read_csv('/content/drive/MyDrive/SGP/dataset/labels/test.csv')\n",
    "\n",
    "\n",
    "\n",
    "train_labels.drop(['ID','DR', 'ARMD', 'MH', 'DN', 'MYA', 'BRVO', 'TSLN',\n",
    "       'ERM', 'LS', 'MS', 'CSR', 'ODC', 'CRVO', 'TV', 'AH', 'ODP', 'ODE', 'ST',\n",
    "      'AION', 'PT', 'RT', 'RS', 'CRS', 'EDN', 'RPEC', 'MHL', 'RP', 'OTHER'],axis=1,inplace=True)\n",
    "\n",
    "test_labels.drop(['ID','DR', 'ARMD', 'MH', 'DN', 'MYA', 'BRVO', 'TSLN',\n",
    "       'ERM', 'LS', 'MS', 'CSR', 'ODC', 'CRVO', 'TV', 'AH', 'ODP', 'ODE', 'ST',\n",
    "      'AION', 'PT', 'RT', 'RS', 'CRS', 'EDN', 'RPEC', 'MHL', 'RP', 'OTHER'],axis=1,inplace=True)\n"
   ]
  },
  {
   "cell_type": "code",
   "execution_count": null,
   "metadata": {
    "colab": {
     "base_uri": "https://localhost:8080/"
    },
    "id": "FpfQ-xOoz6wC",
    "outputId": "7377daf1-3baa-448c-bb45-cda7e9c4ebc9"
   },
   "outputs": [
    {
     "name": "stdout",
     "output_type": "stream",
     "text": [
      "(1920, 1)\n"
     ]
    }
   ],
   "source": [
    "y_train=np.array(train_labels)\n",
    "print(y_train.shape)"
   ]
  },
  {
   "cell_type": "code",
   "execution_count": null,
   "metadata": {
    "colab": {
     "base_uri": "https://localhost:8080/"
    },
    "id": "bSz0SlZJ0CfU",
    "outputId": "45152f1c-4bba-460b-a18b-729af083f153"
   },
   "outputs": [
    {
     "name": "stdout",
     "output_type": "stream",
     "text": [
      "(640, 1)\n"
     ]
    }
   ],
   "source": [
    "y_test=np.array(test_labels)\n",
    "print(y_test.shape)"
   ]
  },
  {
   "cell_type": "code",
   "execution_count": null,
   "metadata": {
    "id": "v292niWuOocW"
   },
   "outputs": [],
   "source": [
    "x_test= features_test\n",
    "x_train= features_train"
   ]
  },
  {
   "cell_type": "code",
   "execution_count": null,
   "metadata": {
    "colab": {
     "base_uri": "https://localhost:8080/"
    },
    "id": "BAFaooqZpELX",
    "outputId": "6e50a78b-5953-4756-85eb-dbb6d6d5b723"
   },
   "outputs": [
    {
     "data": {
      "text/plain": [
       "RandomForestClassifier(bootstrap=True, ccp_alpha=0.0, class_weight=None,\n",
       "                       criterion='gini', max_depth=None, max_features='auto',\n",
       "                       max_leaf_nodes=None, max_samples=None,\n",
       "                       min_impurity_decrease=0.0, min_impurity_split=None,\n",
       "                       min_samples_leaf=1, min_samples_split=2,\n",
       "                       min_weight_fraction_leaf=0.0, n_estimators=1000,\n",
       "                       n_jobs=None, oob_score=False, random_state=None,\n",
       "                       verbose=0, warm_start=False)"
      ]
     },
     "execution_count": 30,
     "metadata": {},
     "output_type": "execute_result"
    }
   ],
   "source": [
    "from sklearn.ensemble import RandomForestClassifier\n",
    "rf=RandomForestClassifier(n_estimators=1000)\n",
    "rf.fit(x_train, np.ravel(y_train))"
   ]
  },
  {
   "cell_type": "code",
   "execution_count": null,
   "metadata": {
    "colab": {
     "base_uri": "https://localhost:8080/"
    },
    "id": "TUGg8Cl-g_Aa",
    "outputId": "04158b5f-e2a1-4b7f-b9a8-1ebecd713eb2"
   },
   "outputs": [
    {
     "name": "stdout",
     "output_type": "stream",
     "text": [
      "[[ 90  44]\n",
      " [ 23 483]]\n",
      "              precision    recall  f1-score   support\n",
      "\n",
      "           0       0.80      0.67      0.73       134\n",
      "           1       0.92      0.95      0.94       506\n",
      "\n",
      "    accuracy                           0.90       640\n",
      "   macro avg       0.86      0.81      0.83       640\n",
      "weighted avg       0.89      0.90      0.89       640\n",
      "\n",
      "0.9351403678606002\n"
     ]
    }
   ],
   "source": [
    "y_pred=rf.predict(x_test)\n",
    "\n",
    "from sklearn import metrics\n",
    "cnf_matrix = metrics.confusion_matrix(y_test, y_pred)\n",
    "print(cnf_matrix)\n",
    "\n",
    "from sklearn.metrics import classification_report\n",
    "print(classification_report(y_test, y_pred))\n",
    "\n",
    "from sklearn.metrics import f1_score\n",
    "print(f1_score(y_test, y_pred))"
   ]
  },
  {
   "cell_type": "code",
   "execution_count": null,
   "metadata": {
    "colab": {
     "base_uri": "https://localhost:8080/"
    },
    "id": "D0It_6llus81",
    "outputId": "3f26142a-d2a8-4745-c9a3-2a552b43efd4"
   },
   "outputs": [
    {
     "name": "stdout",
     "output_type": "stream",
     "text": [
      "[1 1 1 1 1 1 1 1 1 1 1 1 1 1 1 1 1 1 1 1 1 1 1 1 1 1 0 1 1 1 1 1 1 1 1 1 1\n",
      " 1 1 1 1 1 1 1 1 1 1 1 1 1 1 1 1 1 1 1 1 1 1 1 1 1 1 1 1 1 1 1 1 1 1 1 1 1\n",
      " 1 1 1 1 1 1 1 1 1 1 1 1 1 1 1 1 1 0 1 1 1 1 1 1 1 1 1 1 1 1 1 1 1 1 1 1 1\n",
      " 1 1 1 1 1 1 1 1 1 1 1 1 1 1 1 1 1 1 1 1 1 1 1 1 1 1 1 1 1 1 1 1 1 1 1 1 1\n",
      " 1 1 1 1 1 1 1 1 1 1 1 1 1 1 1 1 1 0 1 1 1 1 1 1 1 1 1 1 1 1 1 1 1 1 1 1 1\n",
      " 1 1 1 1 1 1 1 1 1 1 1 1 1 1 1 1 1 1 1 1 1 1 1 1 1 1 1 1 1 1 1 1 1 1 1 1 1\n",
      " 1 1 1 1 1 1 1 1 1 1 1 1 1 1 1 1 1 1 1 1 1 1 1 1 1 1 1 1 1 1 1 1 1 1 1 1 1\n",
      " 1 1 1 1 1 1 1 1 1 1 1 1 1 1 1 1 1 1 0 1 1 1 1 1 1 1 1 1 1 1 1 1 1 1 1 1 1\n",
      " 1 1 1 1 1 1 1 1 0 1 1 1 1 1 1 1 1 1 1 1 1 1 1 1 1 1 1 1 1 1 1 1 1 1 1 1 1\n",
      " 1 1 1 1 1 1 1 1 1 1 1 1 1 1 1 1 1 1 1 1 1 1 1 1 1 1 1 1 1 1 1 1 1 1 1 1 1\n",
      " 1 1 1 1 1 1 1 1 1 1 1 1 1 1 1 1 1 1 1 1 1 1 1 1 1 1 1 1 1 1 1 1 1 1 1 1 1\n",
      " 1 1 1 1 1 1 1 1 1 1 1 1 1 1 1 1 1 1 1 1 1 1 1 1 1 1 1 1 1 1 1 1 1 0 0 1 1\n",
      " 0 0 0 1 1 1 1 1 1 1 1 0 1 1 0 0 1 0 0 0 1 1 0 0 1 1 1 1 1 1 1 0 1 1 1 1 1\n",
      " 1 1 1 1 1 1 0 0 1 0 1 1 0 0 1 1 1 0 1 1 0 0 0 1 1 1 1 1 0 1 1 0 1 0 0 0 1\n",
      " 0 0 0 1 0 0 0 0 0 1 0 0 0 0 0 1 0 1 1 0 0 1 0 1 0 0 1 0 0 0 1 0 0 0 1 1 0\n",
      " 0 0 1 0 0 0 0 0 0 0 0 0 0 0 0 0 0 0 0 0 0 0 0 0 0 0 0 0 0 0 0 0 0 0 0 0 0\n",
      " 0 0 1 1 1 1 1 1 0 0 1 1 1 1 1 1 1 1 1 1 1 0 0 0 0 1 0 0 0 0 1 0 0 0 0 0 0\n",
      " 1 1 1 1 1 1 1 1 1 1 1]\n"
     ]
    }
   ],
   "source": [
    "print(np.ravel(y_pred))"
   ]
  },
  {
   "cell_type": "code",
   "execution_count": null,
   "metadata": {
    "id": "xwBBt8ZvphC3"
   },
   "outputs": [],
   "source": [
    "import pickle\n",
    "file = open('/content/drive/MyDrive/SGP/binary_dataset/model_rf_2.pkl', 'wb')\n",
    "pickle.dump(rf,file)"
   ]
  },
  {
   "cell_type": "code",
   "execution_count": null,
   "metadata": {
    "colab": {
     "base_uri": "https://localhost:8080/"
    },
    "id": "JmSiEIFVGlQX",
    "outputId": "82c74007-ceb8-4453-d762-d07026418df1"
   },
   "outputs": [
    {
     "name": "stdout",
     "output_type": "stream",
     "text": [
      "{'n_estimators': [800, 1000, 1200, 1400, 1600], 'max_features': ['sqrt'], 'max_depth': [10, 20, 30, 40, 50], 'min_samples_split': [4, 5, 6, 7], 'min_samples_leaf': [2, 3, 4, 5], 'bootstrap': [True]}\n"
     ]
    }
   ],
   "source": [
    "from sklearn.model_selection import RandomizedSearchCV\n",
    "\n",
    "max_features = ['sqrt']\n",
    "min_samples_split = [4,5,6,7]\n",
    "min_samples_leaf = [2, 3,4,5]\n",
    "bootstrap = [True]\n",
    "\n",
    "random_grid = {'n_estimators': [800,1000,1200,1400,1600],\n",
    "               'max_features': max_features,\n",
    "               'max_depth': [10, 20, 30, 40, 50],\n",
    "               'min_samples_split': min_samples_split,\n",
    "               'min_samples_leaf': min_samples_leaf,\n",
    "               'bootstrap': bootstrap}\n",
    "print(random_grid)"
   ]
  },
  {
   "cell_type": "code",
   "execution_count": null,
   "metadata": {
    "colab": {
     "base_uri": "https://localhost:8080/"
    },
    "id": "g38vEdMDUgXj",
    "outputId": "27263ff5-87a5-43c7-b4c6-9288c826e37b"
   },
   "outputs": [
    {
     "metadata": {
      "tags": null
     },
     "name": "stdout",
     "output_type": "stream",
     "text": [
      "Fitting 2 folds for each of 50 candidates, totalling 100 fits\n",
      "[CV] n_estimators=800, min_samples_split=6, min_samples_leaf=2, max_features=sqrt, max_depth=40, bootstrap=True \n"
     ]
    },
    {
     "metadata": {
      "tags": null
     },
     "name": "stderr",
     "output_type": "stream",
     "text": [
      "[Parallel(n_jobs=1)]: Using backend SequentialBackend with 1 concurrent workers.\n"
     ]
    },
    {
     "metadata": {
      "tags": null
     },
     "name": "stdout",
     "output_type": "stream",
     "text": [
      "[CV]  n_estimators=800, min_samples_split=6, min_samples_leaf=2, max_features=sqrt, max_depth=40, bootstrap=True, total=  54.7s\n",
      "[CV] n_estimators=800, min_samples_split=6, min_samples_leaf=2, max_features=sqrt, max_depth=40, bootstrap=True \n"
     ]
    },
    {
     "metadata": {
      "tags": null
     },
     "name": "stderr",
     "output_type": "stream",
     "text": [
      "[Parallel(n_jobs=1)]: Done   1 out of   1 | elapsed:   54.7s remaining:    0.0s\n"
     ]
    },
    {
     "name": "stdout",
     "output_type": "stream",
     "text": [
      "[CV]  n_estimators=800, min_samples_split=6, min_samples_leaf=2, max_features=sqrt, max_depth=40, bootstrap=True, total=  48.3s\n",
      "[CV] n_estimators=1400, min_samples_split=5, min_samples_leaf=5, max_features=sqrt, max_depth=50, bootstrap=True \n",
      "[CV]  n_estimators=1400, min_samples_split=5, min_samples_leaf=5, max_features=sqrt, max_depth=50, bootstrap=True, total= 1.3min\n",
      "[CV] n_estimators=1400, min_samples_split=5, min_samples_leaf=5, max_features=sqrt, max_depth=50, bootstrap=True \n",
      "[CV]  n_estimators=1400, min_samples_split=5, min_samples_leaf=5, max_features=sqrt, max_depth=50, bootstrap=True, total= 1.1min\n",
      "[CV] n_estimators=1200, min_samples_split=6, min_samples_leaf=2, max_features=sqrt, max_depth=50, bootstrap=True \n",
      "[CV]  n_estimators=1200, min_samples_split=6, min_samples_leaf=2, max_features=sqrt, max_depth=50, bootstrap=True, total= 1.3min\n",
      "[CV] n_estimators=1200, min_samples_split=6, min_samples_leaf=2, max_features=sqrt, max_depth=50, bootstrap=True \n",
      "[CV]  n_estimators=1200, min_samples_split=6, min_samples_leaf=2, max_features=sqrt, max_depth=50, bootstrap=True, total= 1.2min\n",
      "[CV] n_estimators=800, min_samples_split=7, min_samples_leaf=4, max_features=sqrt, max_depth=10, bootstrap=True \n",
      "[CV]  n_estimators=800, min_samples_split=7, min_samples_leaf=4, max_features=sqrt, max_depth=10, bootstrap=True, total=  41.5s\n",
      "[CV] n_estimators=800, min_samples_split=7, min_samples_leaf=4, max_features=sqrt, max_depth=10, bootstrap=True \n",
      "[CV]  n_estimators=800, min_samples_split=7, min_samples_leaf=4, max_features=sqrt, max_depth=10, bootstrap=True, total=  38.6s\n",
      "[CV] n_estimators=1200, min_samples_split=4, min_samples_leaf=3, max_features=sqrt, max_depth=40, bootstrap=True \n",
      "[CV]  n_estimators=1200, min_samples_split=4, min_samples_leaf=3, max_features=sqrt, max_depth=40, bootstrap=True, total= 1.3min\n",
      "[CV] n_estimators=1200, min_samples_split=4, min_samples_leaf=3, max_features=sqrt, max_depth=40, bootstrap=True \n",
      "[CV]  n_estimators=1200, min_samples_split=4, min_samples_leaf=3, max_features=sqrt, max_depth=40, bootstrap=True, total= 1.1min\n",
      "[CV] n_estimators=1600, min_samples_split=6, min_samples_leaf=4, max_features=sqrt, max_depth=40, bootstrap=True \n",
      "[CV]  n_estimators=1600, min_samples_split=6, min_samples_leaf=4, max_features=sqrt, max_depth=40, bootstrap=True, total= 1.6min\n",
      "[CV] n_estimators=1600, min_samples_split=6, min_samples_leaf=4, max_features=sqrt, max_depth=40, bootstrap=True \n",
      "[CV]  n_estimators=1600, min_samples_split=6, min_samples_leaf=4, max_features=sqrt, max_depth=40, bootstrap=True, total= 1.4min\n",
      "[CV] n_estimators=1000, min_samples_split=5, min_samples_leaf=2, max_features=sqrt, max_depth=10, bootstrap=True \n",
      "[CV]  n_estimators=1000, min_samples_split=5, min_samples_leaf=2, max_features=sqrt, max_depth=10, bootstrap=True, total=  54.5s\n",
      "[CV] n_estimators=1000, min_samples_split=5, min_samples_leaf=2, max_features=sqrt, max_depth=10, bootstrap=True \n",
      "[CV]  n_estimators=1000, min_samples_split=5, min_samples_leaf=2, max_features=sqrt, max_depth=10, bootstrap=True, total=  52.3s\n",
      "[CV] n_estimators=1600, min_samples_split=4, min_samples_leaf=5, max_features=sqrt, max_depth=40, bootstrap=True \n",
      "[CV]  n_estimators=1600, min_samples_split=4, min_samples_leaf=5, max_features=sqrt, max_depth=40, bootstrap=True, total= 1.5min\n",
      "[CV] n_estimators=1600, min_samples_split=4, min_samples_leaf=5, max_features=sqrt, max_depth=40, bootstrap=True \n",
      "[CV]  n_estimators=1600, min_samples_split=4, min_samples_leaf=5, max_features=sqrt, max_depth=40, bootstrap=True, total= 1.3min\n",
      "[CV] n_estimators=1600, min_samples_split=5, min_samples_leaf=4, max_features=sqrt, max_depth=40, bootstrap=True \n",
      "[CV]  n_estimators=1600, min_samples_split=5, min_samples_leaf=4, max_features=sqrt, max_depth=40, bootstrap=True, total= 1.6min\n",
      "[CV] n_estimators=1600, min_samples_split=5, min_samples_leaf=4, max_features=sqrt, max_depth=40, bootstrap=True \n",
      "[CV]  n_estimators=1600, min_samples_split=5, min_samples_leaf=4, max_features=sqrt, max_depth=40, bootstrap=True, total= 1.4min\n",
      "[CV] n_estimators=1600, min_samples_split=6, min_samples_leaf=3, max_features=sqrt, max_depth=10, bootstrap=True \n",
      "[CV]  n_estimators=1600, min_samples_split=6, min_samples_leaf=3, max_features=sqrt, max_depth=10, bootstrap=True, total= 1.4min\n",
      "[CV] n_estimators=1600, min_samples_split=6, min_samples_leaf=3, max_features=sqrt, max_depth=10, bootstrap=True \n",
      "[CV]  n_estimators=1600, min_samples_split=6, min_samples_leaf=3, max_features=sqrt, max_depth=10, bootstrap=True, total= 1.3min\n",
      "[CV] n_estimators=1200, min_samples_split=4, min_samples_leaf=2, max_features=sqrt, max_depth=30, bootstrap=True \n",
      "[CV]  n_estimators=1200, min_samples_split=4, min_samples_leaf=2, max_features=sqrt, max_depth=30, bootstrap=True, total= 1.3min\n",
      "[CV] n_estimators=1200, min_samples_split=4, min_samples_leaf=2, max_features=sqrt, max_depth=30, bootstrap=True \n",
      "[CV]  n_estimators=1200, min_samples_split=4, min_samples_leaf=2, max_features=sqrt, max_depth=30, bootstrap=True, total= 1.2min\n",
      "[CV] n_estimators=1400, min_samples_split=7, min_samples_leaf=5, max_features=sqrt, max_depth=30, bootstrap=True \n",
      "[CV]  n_estimators=1400, min_samples_split=7, min_samples_leaf=5, max_features=sqrt, max_depth=30, bootstrap=True, total= 1.3min\n",
      "[CV] n_estimators=1400, min_samples_split=7, min_samples_leaf=5, max_features=sqrt, max_depth=30, bootstrap=True \n",
      "[CV]  n_estimators=1400, min_samples_split=7, min_samples_leaf=5, max_features=sqrt, max_depth=30, bootstrap=True, total= 1.1min\n",
      "[CV] n_estimators=1000, min_samples_split=4, min_samples_leaf=2, max_features=sqrt, max_depth=10, bootstrap=True \n",
      "[CV]  n_estimators=1000, min_samples_split=4, min_samples_leaf=2, max_features=sqrt, max_depth=10, bootstrap=True, total=  54.3s\n",
      "[CV] n_estimators=1000, min_samples_split=4, min_samples_leaf=2, max_features=sqrt, max_depth=10, bootstrap=True \n",
      "[CV]  n_estimators=1000, min_samples_split=4, min_samples_leaf=2, max_features=sqrt, max_depth=10, bootstrap=True, total=  52.1s\n",
      "[CV] n_estimators=1400, min_samples_split=7, min_samples_leaf=3, max_features=sqrt, max_depth=40, bootstrap=True \n",
      "[CV]  n_estimators=1400, min_samples_split=7, min_samples_leaf=3, max_features=sqrt, max_depth=40, bootstrap=True, total= 1.5min\n",
      "[CV] n_estimators=1400, min_samples_split=7, min_samples_leaf=3, max_features=sqrt, max_depth=40, bootstrap=True \n",
      "[CV]  n_estimators=1400, min_samples_split=7, min_samples_leaf=3, max_features=sqrt, max_depth=40, bootstrap=True, total= 1.3min\n",
      "[CV] n_estimators=800, min_samples_split=7, min_samples_leaf=4, max_features=sqrt, max_depth=30, bootstrap=True \n",
      "[CV]  n_estimators=800, min_samples_split=7, min_samples_leaf=4, max_features=sqrt, max_depth=30, bootstrap=True, total=  46.8s\n",
      "[CV] n_estimators=800, min_samples_split=7, min_samples_leaf=4, max_features=sqrt, max_depth=30, bootstrap=True \n",
      "[CV]  n_estimators=800, min_samples_split=7, min_samples_leaf=4, max_features=sqrt, max_depth=30, bootstrap=True, total=  40.7s\n",
      "[CV] n_estimators=1200, min_samples_split=5, min_samples_leaf=3, max_features=sqrt, max_depth=20, bootstrap=True \n",
      "[CV]  n_estimators=1200, min_samples_split=5, min_samples_leaf=3, max_features=sqrt, max_depth=20, bootstrap=True, total= 1.3min\n",
      "[CV] n_estimators=1200, min_samples_split=5, min_samples_leaf=3, max_features=sqrt, max_depth=20, bootstrap=True \n",
      "[CV]  n_estimators=1200, min_samples_split=5, min_samples_leaf=3, max_features=sqrt, max_depth=20, bootstrap=True, total= 1.1min\n",
      "[CV] n_estimators=1600, min_samples_split=7, min_samples_leaf=3, max_features=sqrt, max_depth=50, bootstrap=True \n",
      "[CV]  n_estimators=1600, min_samples_split=7, min_samples_leaf=3, max_features=sqrt, max_depth=50, bootstrap=True, total= 1.7min\n",
      "[CV] n_estimators=1600, min_samples_split=7, min_samples_leaf=3, max_features=sqrt, max_depth=50, bootstrap=True \n",
      "[CV]  n_estimators=1600, min_samples_split=7, min_samples_leaf=3, max_features=sqrt, max_depth=50, bootstrap=True, total= 1.4min\n",
      "[CV] n_estimators=800, min_samples_split=5, min_samples_leaf=4, max_features=sqrt, max_depth=50, bootstrap=True \n",
      "[CV]  n_estimators=800, min_samples_split=5, min_samples_leaf=4, max_features=sqrt, max_depth=50, bootstrap=True, total=  46.5s\n",
      "[CV] n_estimators=800, min_samples_split=5, min_samples_leaf=4, max_features=sqrt, max_depth=50, bootstrap=True \n",
      "[CV]  n_estimators=800, min_samples_split=5, min_samples_leaf=4, max_features=sqrt, max_depth=50, bootstrap=True, total=  40.8s\n",
      "[CV] n_estimators=1600, min_samples_split=4, min_samples_leaf=2, max_features=sqrt, max_depth=50, bootstrap=True \n",
      "[CV]  n_estimators=1600, min_samples_split=4, min_samples_leaf=2, max_features=sqrt, max_depth=50, bootstrap=True, total= 1.8min\n",
      "[CV] n_estimators=1600, min_samples_split=4, min_samples_leaf=2, max_features=sqrt, max_depth=50, bootstrap=True \n",
      "[CV]  n_estimators=1600, min_samples_split=4, min_samples_leaf=2, max_features=sqrt, max_depth=50, bootstrap=True, total= 1.6min\n",
      "[CV] n_estimators=1400, min_samples_split=4, min_samples_leaf=2, max_features=sqrt, max_depth=30, bootstrap=True \n",
      "[CV]  n_estimators=1400, min_samples_split=4, min_samples_leaf=2, max_features=sqrt, max_depth=30, bootstrap=True, total= 1.6min\n",
      "[CV] n_estimators=1400, min_samples_split=4, min_samples_leaf=2, max_features=sqrt, max_depth=30, bootstrap=True \n",
      "[CV]  n_estimators=1400, min_samples_split=4, min_samples_leaf=2, max_features=sqrt, max_depth=30, bootstrap=True, total= 1.4min\n",
      "[CV] n_estimators=1000, min_samples_split=5, min_samples_leaf=2, max_features=sqrt, max_depth=30, bootstrap=True \n",
      "[CV]  n_estimators=1000, min_samples_split=5, min_samples_leaf=2, max_features=sqrt, max_depth=30, bootstrap=True, total= 1.1min\n",
      "[CV] n_estimators=1000, min_samples_split=5, min_samples_leaf=2, max_features=sqrt, max_depth=30, bootstrap=True \n",
      "[CV]  n_estimators=1000, min_samples_split=5, min_samples_leaf=2, max_features=sqrt, max_depth=30, bootstrap=True, total=  59.6s\n",
      "[CV] n_estimators=1000, min_samples_split=6, min_samples_leaf=5, max_features=sqrt, max_depth=30, bootstrap=True \n",
      "[CV]  n_estimators=1000, min_samples_split=6, min_samples_leaf=5, max_features=sqrt, max_depth=30, bootstrap=True, total=  54.4s\n",
      "[CV] n_estimators=1000, min_samples_split=6, min_samples_leaf=5, max_features=sqrt, max_depth=30, bootstrap=True \n",
      "[CV]  n_estimators=1000, min_samples_split=6, min_samples_leaf=5, max_features=sqrt, max_depth=30, bootstrap=True, total=  47.7s\n",
      "[CV] n_estimators=1200, min_samples_split=4, min_samples_leaf=5, max_features=sqrt, max_depth=10, bootstrap=True \n",
      "[CV]  n_estimators=1200, min_samples_split=4, min_samples_leaf=5, max_features=sqrt, max_depth=10, bootstrap=True, total= 1.0min\n",
      "[CV] n_estimators=1200, min_samples_split=4, min_samples_leaf=5, max_features=sqrt, max_depth=10, bootstrap=True \n",
      "[CV]  n_estimators=1200, min_samples_split=4, min_samples_leaf=5, max_features=sqrt, max_depth=10, bootstrap=True, total=  55.5s\n",
      "[CV] n_estimators=1400, min_samples_split=7, min_samples_leaf=2, max_features=sqrt, max_depth=10, bootstrap=True \n",
      "[CV]  n_estimators=1400, min_samples_split=7, min_samples_leaf=2, max_features=sqrt, max_depth=10, bootstrap=True, total= 1.3min\n",
      "[CV] n_estimators=1400, min_samples_split=7, min_samples_leaf=2, max_features=sqrt, max_depth=10, bootstrap=True \n",
      "[CV]  n_estimators=1400, min_samples_split=7, min_samples_leaf=2, max_features=sqrt, max_depth=10, bootstrap=True, total= 1.2min\n",
      "[CV] n_estimators=1400, min_samples_split=4, min_samples_leaf=2, max_features=sqrt, max_depth=20, bootstrap=True \n",
      "[CV]  n_estimators=1400, min_samples_split=4, min_samples_leaf=2, max_features=sqrt, max_depth=20, bootstrap=True, total= 1.6min\n",
      "[CV] n_estimators=1400, min_samples_split=4, min_samples_leaf=2, max_features=sqrt, max_depth=20, bootstrap=True \n",
      "[CV]  n_estimators=1400, min_samples_split=4, min_samples_leaf=2, max_features=sqrt, max_depth=20, bootstrap=True, total= 1.4min\n",
      "[CV] n_estimators=1600, min_samples_split=4, min_samples_leaf=3, max_features=sqrt, max_depth=50, bootstrap=True \n",
      "[CV]  n_estimators=1600, min_samples_split=4, min_samples_leaf=3, max_features=sqrt, max_depth=50, bootstrap=True, total= 1.7min\n",
      "[CV] n_estimators=1600, min_samples_split=4, min_samples_leaf=3, max_features=sqrt, max_depth=50, bootstrap=True \n",
      "[CV]  n_estimators=1600, min_samples_split=4, min_samples_leaf=3, max_features=sqrt, max_depth=50, bootstrap=True, total= 1.5min\n",
      "[CV] n_estimators=1600, min_samples_split=5, min_samples_leaf=2, max_features=sqrt, max_depth=50, bootstrap=True \n",
      "[CV]  n_estimators=1600, min_samples_split=5, min_samples_leaf=2, max_features=sqrt, max_depth=50, bootstrap=True, total= 1.8min\n",
      "[CV] n_estimators=1600, min_samples_split=5, min_samples_leaf=2, max_features=sqrt, max_depth=50, bootstrap=True \n",
      "[CV]  n_estimators=1600, min_samples_split=5, min_samples_leaf=2, max_features=sqrt, max_depth=50, bootstrap=True, total= 1.6min\n",
      "[CV] n_estimators=800, min_samples_split=6, min_samples_leaf=4, max_features=sqrt, max_depth=50, bootstrap=True \n",
      "[CV]  n_estimators=800, min_samples_split=6, min_samples_leaf=4, max_features=sqrt, max_depth=50, bootstrap=True, total=  46.0s\n",
      "[CV] n_estimators=800, min_samples_split=6, min_samples_leaf=4, max_features=sqrt, max_depth=50, bootstrap=True \n",
      "[CV]  n_estimators=800, min_samples_split=6, min_samples_leaf=4, max_features=sqrt, max_depth=50, bootstrap=True, total=  40.8s\n",
      "[CV] n_estimators=1200, min_samples_split=6, min_samples_leaf=3, max_features=sqrt, max_depth=30, bootstrap=True \n",
      "[CV]  n_estimators=1200, min_samples_split=6, min_samples_leaf=3, max_features=sqrt, max_depth=30, bootstrap=True, total= 1.2min\n",
      "[CV] n_estimators=1200, min_samples_split=6, min_samples_leaf=3, max_features=sqrt, max_depth=30, bootstrap=True \n",
      "[CV]  n_estimators=1200, min_samples_split=6, min_samples_leaf=3, max_features=sqrt, max_depth=30, bootstrap=True, total= 1.1min\n",
      "[CV] n_estimators=1200, min_samples_split=6, min_samples_leaf=3, max_features=sqrt, max_depth=10, bootstrap=True \n",
      "[CV]  n_estimators=1200, min_samples_split=6, min_samples_leaf=3, max_features=sqrt, max_depth=10, bootstrap=True, total= 1.1min\n",
      "[CV] n_estimators=1200, min_samples_split=6, min_samples_leaf=3, max_features=sqrt, max_depth=10, bootstrap=True \n",
      "[CV]  n_estimators=1200, min_samples_split=6, min_samples_leaf=3, max_features=sqrt, max_depth=10, bootstrap=True, total=  60.0s\n",
      "[CV] n_estimators=800, min_samples_split=5, min_samples_leaf=3, max_features=sqrt, max_depth=30, bootstrap=True \n",
      "[CV]  n_estimators=800, min_samples_split=5, min_samples_leaf=3, max_features=sqrt, max_depth=30, bootstrap=True, total=  49.9s\n",
      "[CV] n_estimators=800, min_samples_split=5, min_samples_leaf=3, max_features=sqrt, max_depth=30, bootstrap=True \n",
      "[CV]  n_estimators=800, min_samples_split=5, min_samples_leaf=3, max_features=sqrt, max_depth=30, bootstrap=True, total=  43.6s\n",
      "[CV] n_estimators=1200, min_samples_split=4, min_samples_leaf=2, max_features=sqrt, max_depth=50, bootstrap=True \n",
      "[CV]  n_estimators=1200, min_samples_split=4, min_samples_leaf=2, max_features=sqrt, max_depth=50, bootstrap=True, total= 1.3min\n",
      "[CV] n_estimators=1200, min_samples_split=4, min_samples_leaf=2, max_features=sqrt, max_depth=50, bootstrap=True \n",
      "[CV]  n_estimators=1200, min_samples_split=4, min_samples_leaf=2, max_features=sqrt, max_depth=50, bootstrap=True, total= 1.2min\n",
      "[CV] n_estimators=1200, min_samples_split=7, min_samples_leaf=4, max_features=sqrt, max_depth=20, bootstrap=True \n",
      "[CV]  n_estimators=1200, min_samples_split=7, min_samples_leaf=4, max_features=sqrt, max_depth=20, bootstrap=True, total= 1.2min\n",
      "[CV] n_estimators=1200, min_samples_split=7, min_samples_leaf=4, max_features=sqrt, max_depth=20, bootstrap=True \n",
      "[CV]  n_estimators=1200, min_samples_split=7, min_samples_leaf=4, max_features=sqrt, max_depth=20, bootstrap=True, total= 1.0min\n",
      "[CV] n_estimators=1000, min_samples_split=7, min_samples_leaf=2, max_features=sqrt, max_depth=10, bootstrap=True \n",
      "[CV]  n_estimators=1000, min_samples_split=7, min_samples_leaf=2, max_features=sqrt, max_depth=10, bootstrap=True, total=  54.0s\n",
      "[CV] n_estimators=1000, min_samples_split=7, min_samples_leaf=2, max_features=sqrt, max_depth=10, bootstrap=True \n",
      "[CV]  n_estimators=1000, min_samples_split=7, min_samples_leaf=2, max_features=sqrt, max_depth=10, bootstrap=True, total=  51.3s\n",
      "[CV] n_estimators=1400, min_samples_split=6, min_samples_leaf=3, max_features=sqrt, max_depth=30, bootstrap=True \n",
      "[CV]  n_estimators=1400, min_samples_split=6, min_samples_leaf=3, max_features=sqrt, max_depth=30, bootstrap=True, total= 1.4min\n",
      "[CV] n_estimators=1400, min_samples_split=6, min_samples_leaf=3, max_features=sqrt, max_depth=30, bootstrap=True \n",
      "[CV]  n_estimators=1400, min_samples_split=6, min_samples_leaf=3, max_features=sqrt, max_depth=30, bootstrap=True, total= 1.3min\n",
      "[CV] n_estimators=1600, min_samples_split=4, min_samples_leaf=4, max_features=sqrt, max_depth=50, bootstrap=True \n",
      "[CV]  n_estimators=1600, min_samples_split=4, min_samples_leaf=4, max_features=sqrt, max_depth=50, bootstrap=True, total= 1.5min\n",
      "[CV] n_estimators=1600, min_samples_split=4, min_samples_leaf=4, max_features=sqrt, max_depth=50, bootstrap=True \n",
      "[CV]  n_estimators=1600, min_samples_split=4, min_samples_leaf=4, max_features=sqrt, max_depth=50, bootstrap=True, total= 1.3min\n",
      "[CV] n_estimators=800, min_samples_split=6, min_samples_leaf=4, max_features=sqrt, max_depth=20, bootstrap=True \n",
      "[CV]  n_estimators=800, min_samples_split=6, min_samples_leaf=4, max_features=sqrt, max_depth=20, bootstrap=True, total=  46.6s\n",
      "[CV] n_estimators=800, min_samples_split=6, min_samples_leaf=4, max_features=sqrt, max_depth=20, bootstrap=True \n",
      "[CV]  n_estimators=800, min_samples_split=6, min_samples_leaf=4, max_features=sqrt, max_depth=20, bootstrap=True, total=  40.4s\n",
      "[CV] n_estimators=800, min_samples_split=5, min_samples_leaf=5, max_features=sqrt, max_depth=40, bootstrap=True \n",
      "[CV]  n_estimators=800, min_samples_split=5, min_samples_leaf=5, max_features=sqrt, max_depth=40, bootstrap=True, total=  43.4s\n",
      "[CV] n_estimators=800, min_samples_split=5, min_samples_leaf=5, max_features=sqrt, max_depth=40, bootstrap=True \n",
      "[CV]  n_estimators=800, min_samples_split=5, min_samples_leaf=5, max_features=sqrt, max_depth=40, bootstrap=True, total=  38.2s\n",
      "[CV] n_estimators=800, min_samples_split=5, min_samples_leaf=2, max_features=sqrt, max_depth=20, bootstrap=True \n",
      "[CV]  n_estimators=800, min_samples_split=5, min_samples_leaf=2, max_features=sqrt, max_depth=20, bootstrap=True, total=  54.5s\n",
      "[CV] n_estimators=800, min_samples_split=5, min_samples_leaf=2, max_features=sqrt, max_depth=20, bootstrap=True \n",
      "[CV]  n_estimators=800, min_samples_split=5, min_samples_leaf=2, max_features=sqrt, max_depth=20, bootstrap=True, total=  47.4s\n",
      "[CV] n_estimators=1200, min_samples_split=4, min_samples_leaf=5, max_features=sqrt, max_depth=30, bootstrap=True \n",
      "[CV]  n_estimators=1200, min_samples_split=4, min_samples_leaf=5, max_features=sqrt, max_depth=30, bootstrap=True, total= 1.1min\n",
      "[CV] n_estimators=1200, min_samples_split=4, min_samples_leaf=5, max_features=sqrt, max_depth=30, bootstrap=True \n",
      "[CV]  n_estimators=1200, min_samples_split=4, min_samples_leaf=5, max_features=sqrt, max_depth=30, bootstrap=True, total=  57.0s\n",
      "[CV] n_estimators=1200, min_samples_split=6, min_samples_leaf=5, max_features=sqrt, max_depth=50, bootstrap=True \n",
      "[CV]  n_estimators=1200, min_samples_split=6, min_samples_leaf=5, max_features=sqrt, max_depth=50, bootstrap=True, total= 1.1min\n",
      "[CV] n_estimators=1200, min_samples_split=6, min_samples_leaf=5, max_features=sqrt, max_depth=50, bootstrap=True \n",
      "[CV]  n_estimators=1200, min_samples_split=6, min_samples_leaf=5, max_features=sqrt, max_depth=50, bootstrap=True, total=  57.5s\n",
      "[CV] n_estimators=1000, min_samples_split=4, min_samples_leaf=3, max_features=sqrt, max_depth=40, bootstrap=True \n",
      "[CV]  n_estimators=1000, min_samples_split=4, min_samples_leaf=3, max_features=sqrt, max_depth=40, bootstrap=True, total= 1.0min\n",
      "[CV] n_estimators=1000, min_samples_split=4, min_samples_leaf=3, max_features=sqrt, max_depth=40, bootstrap=True \n",
      "[CV]  n_estimators=1000, min_samples_split=4, min_samples_leaf=3, max_features=sqrt, max_depth=40, bootstrap=True, total=  55.0s\n",
      "[CV] n_estimators=1200, min_samples_split=6, min_samples_leaf=5, max_features=sqrt, max_depth=20, bootstrap=True \n",
      "[CV]  n_estimators=1200, min_samples_split=6, min_samples_leaf=5, max_features=sqrt, max_depth=20, bootstrap=True, total= 1.1min\n",
      "[CV] n_estimators=1200, min_samples_split=6, min_samples_leaf=5, max_features=sqrt, max_depth=20, bootstrap=True \n",
      "[CV]  n_estimators=1200, min_samples_split=6, min_samples_leaf=5, max_features=sqrt, max_depth=20, bootstrap=True, total=  58.1s\n",
      "[CV] n_estimators=1000, min_samples_split=7, min_samples_leaf=4, max_features=sqrt, max_depth=50, bootstrap=True \n",
      "[CV]  n_estimators=1000, min_samples_split=7, min_samples_leaf=4, max_features=sqrt, max_depth=50, bootstrap=True, total=  58.0s\n",
      "[CV] n_estimators=1000, min_samples_split=7, min_samples_leaf=4, max_features=sqrt, max_depth=50, bootstrap=True \n",
      "[CV]  n_estimators=1000, min_samples_split=7, min_samples_leaf=4, max_features=sqrt, max_depth=50, bootstrap=True, total=  50.6s\n",
      "[CV] n_estimators=1400, min_samples_split=5, min_samples_leaf=2, max_features=sqrt, max_depth=30, bootstrap=True \n",
      "[CV]  n_estimators=1400, min_samples_split=5, min_samples_leaf=2, max_features=sqrt, max_depth=30, bootstrap=True, total= 1.6min\n",
      "[CV] n_estimators=1400, min_samples_split=5, min_samples_leaf=2, max_features=sqrt, max_depth=30, bootstrap=True \n",
      "[CV]  n_estimators=1400, min_samples_split=5, min_samples_leaf=2, max_features=sqrt, max_depth=30, bootstrap=True, total= 1.4min\n",
      "[CV] n_estimators=1600, min_samples_split=7, min_samples_leaf=4, max_features=sqrt, max_depth=30, bootstrap=True \n",
      "[CV]  n_estimators=1600, min_samples_split=7, min_samples_leaf=4, max_features=sqrt, max_depth=30, bootstrap=True, total= 1.5min\n",
      "[CV] n_estimators=1600, min_samples_split=7, min_samples_leaf=4, max_features=sqrt, max_depth=30, bootstrap=True \n",
      "[CV]  n_estimators=1600, min_samples_split=7, min_samples_leaf=4, max_features=sqrt, max_depth=30, bootstrap=True, total= 1.3min\n",
      "[CV] n_estimators=1200, min_samples_split=5, min_samples_leaf=4, max_features=sqrt, max_depth=30, bootstrap=True \n",
      "[CV]  n_estimators=1200, min_samples_split=5, min_samples_leaf=4, max_features=sqrt, max_depth=30, bootstrap=True, total= 1.1min\n",
      "[CV] n_estimators=1200, min_samples_split=5, min_samples_leaf=4, max_features=sqrt, max_depth=30, bootstrap=True \n",
      "[CV]  n_estimators=1200, min_samples_split=5, min_samples_leaf=4, max_features=sqrt, max_depth=30, bootstrap=True, total= 1.0min\n",
      "[CV] n_estimators=1000, min_samples_split=7, min_samples_leaf=5, max_features=sqrt, max_depth=50, bootstrap=True \n",
      "[CV]  n_estimators=1000, min_samples_split=7, min_samples_leaf=5, max_features=sqrt, max_depth=50, bootstrap=True, total=  54.9s\n",
      "[CV] n_estimators=1000, min_samples_split=7, min_samples_leaf=5, max_features=sqrt, max_depth=50, bootstrap=True \n",
      "[CV]  n_estimators=1000, min_samples_split=7, min_samples_leaf=5, max_features=sqrt, max_depth=50, bootstrap=True, total=  47.4s\n",
      "[CV] n_estimators=1200, min_samples_split=6, min_samples_leaf=2, max_features=sqrt, max_depth=10, bootstrap=True \n",
      "[CV]  n_estimators=1200, min_samples_split=6, min_samples_leaf=2, max_features=sqrt, max_depth=10, bootstrap=True, total= 1.1min\n",
      "[CV] n_estimators=1200, min_samples_split=6, min_samples_leaf=2, max_features=sqrt, max_depth=10, bootstrap=True \n",
      "[CV]  n_estimators=1200, min_samples_split=6, min_samples_leaf=2, max_features=sqrt, max_depth=10, bootstrap=True, total= 1.0min\n",
      "[CV] n_estimators=1000, min_samples_split=4, min_samples_leaf=5, max_features=sqrt, max_depth=30, bootstrap=True \n",
      "[CV]  n_estimators=1000, min_samples_split=4, min_samples_leaf=5, max_features=sqrt, max_depth=30, bootstrap=True, total=  54.5s\n",
      "[CV] n_estimators=1000, min_samples_split=4, min_samples_leaf=5, max_features=sqrt, max_depth=30, bootstrap=True \n",
      "[CV]  n_estimators=1000, min_samples_split=4, min_samples_leaf=5, max_features=sqrt, max_depth=30, bootstrap=True, total=  47.6s\n"
     ]
    },
    {
     "name": "stderr",
     "output_type": "stream",
     "text": [
      "[Parallel(n_jobs=1)]: Done 100 out of 100 | elapsed: 112.7min finished\n"
     ]
    },
    {
     "data": {
      "text/plain": [
       "RandomizedSearchCV(cv=2, error_score=nan,\n",
       "                   estimator=RandomForestClassifier(bootstrap=True,\n",
       "                                                    ccp_alpha=0.0,\n",
       "                                                    class_weight=None,\n",
       "                                                    criterion='gini',\n",
       "                                                    max_depth=None,\n",
       "                                                    max_features='auto',\n",
       "                                                    max_leaf_nodes=None,\n",
       "                                                    max_samples=None,\n",
       "                                                    min_impurity_decrease=0.0,\n",
       "                                                    min_impurity_split=None,\n",
       "                                                    min_samples_leaf=1,\n",
       "                                                    min_samples_split=2,\n",
       "                                                    min_weight_fraction_leaf=0.0,\n",
       "                                                    n_estimators=100,\n",
       "                                                    n_jobs...\n",
       "                                                    warm_start=False),\n",
       "                   iid='deprecated', n_iter=50, n_jobs=None,\n",
       "                   param_distributions={'bootstrap': [True],\n",
       "                                        'max_depth': [10, 20, 30, 40, 50],\n",
       "                                        'max_features': ['sqrt'],\n",
       "                                        'min_samples_leaf': [2, 3, 4, 5],\n",
       "                                        'min_samples_split': [4, 5, 6, 7],\n",
       "                                        'n_estimators': [800, 1000, 1200, 1400,\n",
       "                                                         1600]},\n",
       "                   pre_dispatch='2*n_jobs', random_state=97, refit=True,\n",
       "                   return_train_score=False, scoring=None, verbose=2)"
      ]
     },
     "execution_count": 11,
     "metadata": {},
     "output_type": "execute_result"
    }
   ],
   "source": [
    "from sklearn.ensemble import RandomForestClassifier\n",
    "rf=RandomForestClassifier()\n",
    "rf_random = RandomizedSearchCV(estimator = rf, param_distributions = random_grid, n_iter = 50, cv=2,verbose=2, random_state=97)\n",
    "\n",
    "rf_random.fit(x_train, np.ravel(y_train))"
   ]
  },
  {
   "cell_type": "code",
   "execution_count": null,
   "metadata": {
    "colab": {
     "base_uri": "https://localhost:8080/"
    },
    "id": "4ZAAc5d5UzpA",
    "outputId": "0573938f-afe4-4e33-9b85-4d70109062f4"
   },
   "outputs": [
    {
     "data": {
      "text/plain": [
       "{'bootstrap': True,\n",
       " 'max_depth': 10,\n",
       " 'max_features': 'sqrt',\n",
       " 'min_samples_leaf': 2,\n",
       " 'min_samples_split': 7,\n",
       " 'n_estimators': 1000}"
      ]
     },
     "execution_count": 12,
     "metadata": {},
     "output_type": "execute_result"
    }
   ],
   "source": [
    "rf_random.best_params_"
   ]
  },
  {
   "cell_type": "code",
   "execution_count": null,
   "metadata": {
    "colab": {
     "base_uri": "https://localhost:8080/"
    },
    "id": "x5-Dm3aAI9Vd",
    "outputId": "68f41d9d-48f1-4cf3-92bd-caf8148cc868"
   },
   "outputs": [
    {
     "name": "stdout",
     "output_type": "stream",
     "text": [
      "[[ 86  48]\n",
      " [ 23 483]]\n",
      "              precision    recall  f1-score   support\n",
      "\n",
      "           0       0.79      0.64      0.71       134\n",
      "           1       0.91      0.95      0.93       506\n",
      "\n",
      "    accuracy                           0.89       640\n",
      "   macro avg       0.85      0.80      0.82       640\n",
      "weighted avg       0.88      0.89      0.88       640\n",
      "\n",
      "0.8890625\n"
     ]
    }
   ],
   "source": [
    "y_pred=rf_random.predict(x_test)\n",
    "from sklearn import metrics\n",
    "cnf_matrix = metrics.confusion_matrix(y_test, y_pred)\n",
    "print(cnf_matrix)\n",
    "\n",
    "from sklearn.metrics import classification_report\n",
    "print(classification_report(y_test, y_pred))\n",
    "\n",
    "from sklearn.metrics import accuracy_score\n",
    "print(accuracy_score(y_test, y_pred))"
   ]
  },
  {
   "cell_type": "code",
   "execution_count": null,
   "metadata": {
    "id": "J3URBdw7j00h"
   },
   "outputs": [],
   "source": []
  },
  {
   "cell_type": "code",
   "execution_count": null,
   "metadata": {
    "colab": {
     "base_uri": "https://localhost:8080/"
    },
    "id": "JHqpM9FvjnKT",
    "outputId": "1b92aae3-5e7f-4316-dee6-d3c7dd30fa89"
   },
   "outputs": [
    {
     "name": "stdout",
     "output_type": "stream",
     "text": [
      "WARNING:tensorflow:No training configuration found in the save file, so the model was *not* compiled. Compile it manually.\n"
     ]
    }
   ],
   "source": [
    "from tensorflow.keras.models import load_model\n",
    "VGG_model=load_model(\"/content/drive/MyDrive/SGP/binary_dataset/vgg_final.h5\")"
   ]
  },
  {
   "cell_type": "code",
   "execution_count": null,
   "metadata": {
    "colab": {
     "base_uri": "https://localhost:8080/"
    },
    "id": "S6WOQS75kUDJ",
    "outputId": "14141896-7c18-4eca-d280-11436ef5a27a"
   },
   "outputs": [
    {
     "name": "stdout",
     "output_type": "stream",
     "text": [
      "[1]\n"
     ]
    }
   ],
   "source": [
    "from tensorflow.keras.preprocessing import image\n",
    "img=image.load_img(\"/content/1.png\",target_size=(400,400))\n",
    "\n",
    "img=image.img_to_array(img)\n",
    "\n",
    "X=np.expand_dims(img, axis=0)\n",
    "\n",
    "\n",
    "test=VGG_model.predict(X)\n",
    "\n",
    "val = test.reshape(test.shape[0], -1)\n",
    "pred=rf.predict(val)\n",
    "print(pred)"
   ]
  },
  {
   "cell_type": "code",
   "execution_count": null,
   "metadata": {
    "colab": {
     "base_uri": "https://localhost:8080/"
    },
    "id": "Z75sp_HutVSq",
    "outputId": "b9501110-ab8d-47a3-8740-485ebce668cd"
   },
   "outputs": [
    {
     "name": "stdout",
     "output_type": "stream",
     "text": [
      "<class 'numpy.ndarray'>\n",
      "<class 'numpy.int64'>\n"
     ]
    }
   ],
   "source": [
    "print(type(pred))\n",
    "val=pred[0]\n",
    "print(type(val))"
   ]
  },
  {
   "cell_type": "code",
   "execution_count": null,
   "metadata": {
    "colab": {
     "base_uri": "https://localhost:8080/"
    },
    "id": "LnkrSz6wmdvT",
    "outputId": "244d5b3f-1442-47df-b3b9-f479dccb6569"
   },
   "outputs": [
    {
     "name": "stdout",
     "output_type": "stream",
     "text": [
      "[1]\n"
     ]
    }
   ],
   "source": [
    "from tensorflow.keras.preprocessing import image\n",
    "img=image.load_img(\"/content/20.png\",target_size=(400,400))\n",
    "\n",
    "img=image.img_to_array(img)\n",
    "\n",
    "X=np.expand_dims(img, axis=0)\n",
    "\n",
    "\n",
    "test=VGG_model.predict(X)\n",
    "\n",
    "val = test.reshape(test.shape[0], -1)\n",
    "pred=logisticRegr.predict(val)\n",
    "print(pred)"
   ]
  },
  {
   "cell_type": "code",
   "execution_count": null,
   "metadata": {
    "id": "uDScNdICmkj_"
   },
   "outputs": [],
   "source": [
    "import pickle\n",
    "file = open('/content/drive/MyDrive/SGP/binary_dataset/model', 'wb')\n",
    "pickle.dump(ovr,file)"
   ]
  }
 ],
 "metadata": {
  "colab": {
   "collapsed_sections": [],
   "name": "Untitled7.ipynb",
   "provenance": []
  },
  "kernelspec": {
   "display_name": "Python 3",
   "language": "python",
   "name": "python3"
  },
  "language_info": {
   "codemirror_mode": {
    "name": "ipython",
    "version": 3
   },
   "file_extension": ".py",
   "mimetype": "text/x-python",
   "name": "python",
   "nbconvert_exporter": "python",
   "pygments_lexer": "ipython3",
   "version": "3.6.12"
  }
 },
 "nbformat": 4,
 "nbformat_minor": 1
}
