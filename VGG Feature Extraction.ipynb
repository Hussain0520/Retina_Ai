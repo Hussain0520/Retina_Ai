{
 "cells": [
  {
   "cell_type": "code",
   "execution_count": null,
   "metadata": {
    "colab": {
     "base_uri": "https://localhost:8080/"
    },
    "id": "h9PioymBAfUk",
    "outputId": "b5ccb197-5f9e-496a-b39d-8d16867122c0"
   },
   "outputs": [
    {
     "data": {
      "text/plain": [
       "(1519, 400, 400, 3)"
      ]
     },
     "execution_count": 1,
     "metadata": {},
     "output_type": "execute_result"
    }
   ],
   "source": [
    "import gzip\n",
    "import numpy as np\n",
    "f = gzip.GzipFile('/content/drive/MyDrive/sgp7/train (1).npy.gz', \"r\")\n",
    "train_images=np.load(f)\n",
    "train_images.shape"
   ]
  },
  {
   "cell_type": "code",
   "execution_count": null,
   "metadata": {
    "colab": {
     "base_uri": "https://localhost:8080/"
    },
    "id": "Yq1wVaItBlwy",
    "outputId": "2befee3b-543a-445b-d913-7695a29bd5a2"
   },
   "outputs": [
    {
     "data": {
      "text/plain": [
       "(506, 400, 400, 3)"
      ]
     },
     "execution_count": 2,
     "metadata": {},
     "output_type": "execute_result"
    }
   ],
   "source": [
    "import gzip\n",
    "import numpy as np\n",
    "f = gzip.GzipFile('/content/drive/MyDrive/sgp7/test (1).npy.gz', \"r\")\n",
    "test_images=np.load(f)\n",
    "test_images.shape"
   ]
  },
  {
   "cell_type": "code",
   "execution_count": null,
   "metadata": {
    "colab": {
     "base_uri": "https://localhost:8080/"
    },
    "id": "a_Qg9xqHB5Si",
    "outputId": "510d1c56-0c8a-4a40-901c-20cbdeddf568"
   },
   "outputs": [
    {
     "name": "stdout",
     "output_type": "stream",
     "text": [
      "(1519, 7)\n",
      "(1519, 5)\n",
      "(1519, 5)\n"
     ]
    }
   ],
   "source": [
    "import pandas as pd\n",
    "import numpy as np\n",
    "\n",
    "train_label = pd.read_csv('/content/drive/MyDrive/sgp7/5 label/a. RFMiD_Training_Labels_5.csv')    # reading the csv file\n",
    "print(train_label.shape)\n",
    "train_label.drop(['Disease_Risk','ID'],axis=1,inplace=True)\n",
    "print(train_label.shape)\n",
    "y_train=np.array(train_label)\n",
    "print(y_train.shape)"
   ]
  },
  {
   "cell_type": "code",
   "execution_count": null,
   "metadata": {
    "colab": {
     "base_uri": "https://localhost:8080/"
    },
    "id": "jUPckzXdCVF2",
    "outputId": "a9c3f4d6-1ad5-454d-bdf6-8e83a82541fa"
   },
   "outputs": [
    {
     "name": "stdout",
     "output_type": "stream",
     "text": [
      "(506, 7)\n",
      "(506, 5)\n",
      "(506, 5)\n"
     ]
    }
   ],
   "source": [
    "import pandas as pd\n",
    "import numpy as np\n",
    "\n",
    "test_label = pd.read_csv('/content/drive/MyDrive/sgp7/5 label/c. RFMiD_Testing_Labels_5.csv')    # reading the csv file\n",
    "print(test_label.shape)\n",
    "test_label.drop(['Disease_Risk','ID'],axis=1,inplace=True)\n",
    "print(test_label.shape)\n",
    "y_test=np.array(test_label)\n",
    "print(y_test.shape)"
   ]
  },
  {
   "cell_type": "code",
   "execution_count": null,
   "metadata": {
    "id": "8Jl-TALbChQN"
   },
   "outputs": [],
   "source": [
    "from tensorflow.keras.applications.vgg16 import VGG16"
   ]
  },
  {
   "cell_type": "code",
   "execution_count": null,
   "metadata": {
    "id": "ipcKD1SsCvnA"
   },
   "outputs": [],
   "source": [
    "VGG_model = VGG16(weights='imagenet', include_top=False, input_shape=(400, 400, 3))"
   ]
  },
  {
   "cell_type": "code",
   "execution_count": null,
   "metadata": {
    "id": "zsvOeib9C8dj"
   },
   "outputs": [],
   "source": [
    "for layer in VGG_model.layers:\n",
    "\tlayer.trainable = False"
   ]
  },
  {
   "cell_type": "code",
   "execution_count": null,
   "metadata": {
    "colab": {
     "base_uri": "https://localhost:8080/"
    },
    "id": "KukeQkSgZFL3",
    "outputId": "2721d2a0-bbc7-432e-fea1-92376fe1515f"
   },
   "outputs": [
    {
     "name": "stdout",
     "output_type": "stream",
     "text": [
      "WARNING:tensorflow:Compiled the loaded model, but the compiled metrics have yet to be built. `model.compile_metrics` will be empty until you train or evaluate the model.\n"
     ]
    }
   ],
   "source": [
    "VGG_model.save(\"/content/drive/MyDrive/sgp7/vgg_final.h5\")"
   ]
  },
  {
   "cell_type": "code",
   "execution_count": null,
   "metadata": {
    "colab": {
     "base_uri": "https://localhost:8080/"
    },
    "id": "Im9QRrSeC_v5",
    "outputId": "55a286d7-987e-4b15-ee90-ada39e1a828a"
   },
   "outputs": [
    {
     "name": "stdout",
     "output_type": "stream",
     "text": [
      "Model: \"vgg16\"\n",
      "_________________________________________________________________\n",
      "Layer (type)                 Output Shape              Param #   \n",
      "=================================================================\n",
      "input_1 (InputLayer)         [(None, 400, 400, 3)]     0         \n",
      "_________________________________________________________________\n",
      "block1_conv1 (Conv2D)        (None, 400, 400, 64)      1792      \n",
      "_________________________________________________________________\n",
      "block1_conv2 (Conv2D)        (None, 400, 400, 64)      36928     \n",
      "_________________________________________________________________\n",
      "block1_pool (MaxPooling2D)   (None, 200, 200, 64)      0         \n",
      "_________________________________________________________________\n",
      "block2_conv1 (Conv2D)        (None, 200, 200, 128)     73856     \n",
      "_________________________________________________________________\n",
      "block2_conv2 (Conv2D)        (None, 200, 200, 128)     147584    \n",
      "_________________________________________________________________\n",
      "block2_pool (MaxPooling2D)   (None, 100, 100, 128)     0         \n",
      "_________________________________________________________________\n",
      "block3_conv1 (Conv2D)        (None, 100, 100, 256)     295168    \n",
      "_________________________________________________________________\n",
      "block3_conv2 (Conv2D)        (None, 100, 100, 256)     590080    \n",
      "_________________________________________________________________\n",
      "block3_conv3 (Conv2D)        (None, 100, 100, 256)     590080    \n",
      "_________________________________________________________________\n",
      "block3_pool (MaxPooling2D)   (None, 50, 50, 256)       0         \n",
      "_________________________________________________________________\n",
      "block4_conv1 (Conv2D)        (None, 50, 50, 512)       1180160   \n",
      "_________________________________________________________________\n",
      "block4_conv2 (Conv2D)        (None, 50, 50, 512)       2359808   \n",
      "_________________________________________________________________\n",
      "block4_conv3 (Conv2D)        (None, 50, 50, 512)       2359808   \n",
      "_________________________________________________________________\n",
      "block4_pool (MaxPooling2D)   (None, 25, 25, 512)       0         \n",
      "_________________________________________________________________\n",
      "block5_conv1 (Conv2D)        (None, 25, 25, 512)       2359808   \n",
      "_________________________________________________________________\n",
      "block5_conv2 (Conv2D)        (None, 25, 25, 512)       2359808   \n",
      "_________________________________________________________________\n",
      "block5_conv3 (Conv2D)        (None, 25, 25, 512)       2359808   \n",
      "_________________________________________________________________\n",
      "block5_pool (MaxPooling2D)   (None, 12, 12, 512)       0         \n",
      "=================================================================\n",
      "Total params: 14,714,688\n",
      "Trainable params: 0\n",
      "Non-trainable params: 14,714,688\n",
      "_________________________________________________________________\n"
     ]
    }
   ],
   "source": [
    "VGG_model.summary()"
   ]
  },
  {
   "cell_type": "code",
   "execution_count": null,
   "metadata": {
    "id": "JMI2POIADCMj"
   },
   "outputs": [],
   "source": [
    "feature_extractor=VGG_model.predict(train_images)"
   ]
  },
  {
   "cell_type": "code",
   "execution_count": null,
   "metadata": {
    "id": "6VxeCvFgJ4-a"
   },
   "outputs": [],
   "source": [
    "import gzip\n",
    "import numpy\n",
    "\n",
    "f = gzip.GzipFile(\"/content/drive/MyDrive/sgp7/features.npy.gz\", \"w\")\n",
    "numpy.save(file=f, arr=feature_extractor)\n",
    "f.close()"
   ]
  },
  {
   "cell_type": "code",
   "execution_count": null,
   "metadata": {
    "colab": {
     "base_uri": "https://localhost:8080/"
    },
    "id": "qm0E2SZuKXYb",
    "outputId": "3e93e93d-b012-4c7a-fb90-b68990d24a83"
   },
   "outputs": [
    {
     "data": {
      "text/plain": [
       "(1519, 12, 12, 512)"
      ]
     },
     "execution_count": 1,
     "metadata": {},
     "output_type": "execute_result"
    }
   ],
   "source": [
    "import gzip\n",
    "import numpy as np\n",
    "f = gzip.GzipFile('/content/drive/MyDrive/sgp7/features.npy.gz', \"r\")\n",
    "train_images=np.load(f)\n",
    "train_images.shape"
   ]
  },
  {
   "cell_type": "code",
   "execution_count": null,
   "metadata": {
    "id": "kvm70qJyDLws"
   },
   "outputs": [],
   "source": [
    "features = train_images.reshape(train_images.shape[0], -1)"
   ]
  },
  {
   "cell_type": "code",
   "execution_count": null,
   "metadata": {
    "colab": {
     "base_uri": "https://localhost:8080/"
    },
    "id": "up7WhUToI0Mt",
    "outputId": "e411cc9a-bed8-4d5b-93e5-ef90bd9dd41e"
   },
   "outputs": [
    {
     "data": {
      "text/plain": [
       "(1519, 73728)"
      ]
     },
     "execution_count": 6,
     "metadata": {},
     "output_type": "execute_result"
    }
   ],
   "source": [
    "X_for_training = features\n",
    "X_for_training.shape"
   ]
  },
  {
   "cell_type": "code",
   "execution_count": null,
   "metadata": {
    "colab": {
     "base_uri": "https://localhost:8080/"
    },
    "id": "Bcjo5245Ob72",
    "outputId": "8811239d-c793-4942-9128-6cc38a4f0f0e"
   },
   "outputs": [
    {
     "data": {
      "text/plain": [
       "(1519, 5)"
      ]
     },
     "execution_count": 31,
     "metadata": {},
     "output_type": "execute_result"
    }
   ],
   "source": [
    "y_train.shape"
   ]
  }
 ],
 "metadata": {
  "accelerator": "GPU",
  "colab": {
   "collapsed_sections": [],
   "name": "random_forest_classifier.ipynb",
   "provenance": []
  },
  "kernelspec": {
   "display_name": "Python 3",
   "language": "python",
   "name": "python3"
  },
  "language_info": {
   "codemirror_mode": {
    "name": "ipython",
    "version": 3
   },
   "file_extension": ".py",
   "mimetype": "text/x-python",
   "name": "python",
   "nbconvert_exporter": "python",
   "pygments_lexer": "ipython3",
   "version": "3.6.12"
  }
 },
 "nbformat": 4,
 "nbformat_minor": 1
}
